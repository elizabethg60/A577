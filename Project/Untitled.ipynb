{
 "cells": [
  {
   "cell_type": "code",
   "execution_count": null,
   "id": "cf83ec06",
   "metadata": {},
   "outputs": [
    {
     "name": "stdout",
     "output_type": "stream",
     "text": [
      "64 64\n",
      "64 64\n"
     ]
    },
    {
     "name": "stderr",
     "output_type": "stream",
     "text": [
      " 75%|█████████████████████████████▎         | 752/1000 [00:02<00:00, 263.15it/s]"
     ]
    }
   ],
   "source": [
    "import numpy as np\n",
    "import emcee\n",
    "import matplotlib.pyplot as plt\n",
    "\n",
    "# Define the model\n",
    "def model(params, x):\n",
    "    slope, intercept, amplitude, period, phase = params\n",
    "    return slope * x + intercept + amplitude * np.sin(2 * np.pi * x / period + phase)\n",
    "\n",
    "# Define the log likelihood function\n",
    "def log_likelihood(params, x, y, yerr):\n",
    "    model_prediction = model(params, x)\n",
    "    residuals = y - model_prediction\n",
    "    chi_squared = np.sum(residuals**2 / yerr**2)\n",
    "    return -0.5 * chi_squared\n",
    "\n",
    "# Define the log prior function\n",
    "def log_prior(params):\n",
    "    slope, intercept, amplitude, period, phase = params\n",
    "    # Flat priors\n",
    "    if -100 < slope < 100 and -100 < intercept < 100 and 0 < amplitude < 100 and 0 < period < 100 and 0 < phase < 2 * np.pi:\n",
    "        return 0.0\n",
    "    return -np.inf\n",
    "\n",
    "# Define the log posterior function\n",
    "def log_posterior(params, x, y, yerr):\n",
    "    lp = log_prior(params)\n",
    "    if not np.isfinite(lp):\n",
    "        return -np.inf\n",
    "    return lp + log_likelihood(params, x, y, yerr)\n",
    "\n",
    "# Generate radial velocity data\n",
    "import csv\n",
    "with open('test.csv') as f:\n",
    "    cf = csv.reader(f)\n",
    "    time = []\n",
    "    rv = []\n",
    "    for row in cf:\n",
    "        time.append(float(row[0]))\n",
    "        rv.append(float(row[1]))\n",
    "\n",
    "true_params = [0.5, 10, 5, 10, np.pi/2]  # slope, intercept, amplitude, period, phase\n",
    "print(len(time), len(rv))\n",
    "x = np.arange(0, 64) #np.linspace(0, 20, 100)\n",
    "yerr = 0.5\n",
    "y = rv #model(true_params, x) + np.random.normal(scale=yerr, size=len(x))\n",
    "print(len(x), len(y))\n",
    "# Set up the initial guess for the parameters\n",
    "initial_params = np.array([1, 5, 2, 8, np.pi])\n",
    "\n",
    "# Set up the emcee sampler\n",
    "ndim = len(initial_params)\n",
    "nwalkers = 100\n",
    "nsteps = 1000\n",
    "\n",
    "# Initialize walkers in a small Gaussian ball around the initial parameter values\n",
    "p0 = initial_params + 1e-4 * np.random.randn(nwalkers, ndim)\n",
    "\n",
    "# Set up the sampler\n",
    "sampler = emcee.EnsembleSampler(nwalkers, ndim, log_posterior, args=(x, y, yerr))\n",
    "\n",
    "# Run the MCMC sampler\n",
    "sampler.run_mcmc(p0, nsteps, progress=True)\n",
    "\n",
    "# Get the chains (discard burn-in)\n",
    "burnin = 100\n",
    "samples = sampler.chain[:, burnin:, :].reshape((-1, ndim))\n",
    "\n",
    "# Plot the results\n",
    "plt.figure(figsize=(10, 6))\n",
    "plt.errorbar(x, y, yerr=yerr, fmt='o', label='Data', color='black', zorder=5, markersize=5)\n",
    "\n",
    "# Plot some random samples from the chains\n",
    "for params in samples[np.random.randint(len(samples), size=100)]:\n",
    "    plt.plot(x, model(params, x), color='gray', alpha=0.1)\n",
    "\n",
    "plt.xlabel('Time')\n",
    "plt.ylabel('Radial Velocity')\n",
    "plt.title('Radial Velocity Data with MCMC Fits')\n",
    "plt.legend()\n",
    "plt.show()\n"
   ]
  },
  {
   "cell_type": "code",
   "execution_count": null,
   "id": "b2981095",
   "metadata": {},
   "outputs": [],
   "source": []
  }
 ],
 "metadata": {
  "kernelspec": {
   "display_name": "Python 3 (ipykernel)",
   "language": "python",
   "name": "python3"
  },
  "language_info": {
   "codemirror_mode": {
    "name": "ipython",
    "version": 3
   },
   "file_extension": ".py",
   "mimetype": "text/x-python",
   "name": "python",
   "nbconvert_exporter": "python",
   "pygments_lexer": "ipython3",
   "version": "3.11.5"
  }
 },
 "nbformat": 4,
 "nbformat_minor": 5
}
